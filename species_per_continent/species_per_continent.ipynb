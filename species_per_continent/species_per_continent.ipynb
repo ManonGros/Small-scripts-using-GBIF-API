{
 "cells": [
  {
   "cell_type": "code",
   "execution_count": 1,
   "metadata": {},
   "outputs": [],
   "source": [
    "import pandas as pd\n",
    "import requests\n",
    "import json\n",
    "from species_in_country_list import *"
   ]
  },
  {
   "cell_type": "markdown",
   "metadata": {},
   "source": [
    "# How many butterfly species do we have per continent?\n",
    "\n",
    "This script counts the number of species with at least one occurrence in GBIF per continent.\n",
    "\n",
    "**DISCLAMER**: there is no quality control here. You are welcome to re-use this script and add the quality control filters you need"
   ]
  },
  {
   "cell_type": "code",
   "execution_count": 2,
   "metadata": {},
   "outputs": [],
   "source": [
    "countries = pd.read_excel(\"ipbes-regions-countries.xlsx\", \"IPBES-country-classification\").fillna(\"NA\")"
   ]
  },
  {
   "cell_type": "code",
   "execution_count": 3,
   "metadata": {},
   "outputs": [],
   "source": [
    "butterfly = \"Lepidoptera\""
   ]
  },
  {
   "cell_type": "code",
   "execution_count": 4,
   "metadata": {},
   "outputs": [
    {
     "name": "stdout",
     "output_type": "stream",
     "text": [
      "Europe: 10263\n",
      "Asia: 15170\n",
      "Latin America: 23732\n",
      "Africa: 10257\n",
      "Antarctica: 18\n",
      "Oceania: 7364\n",
      "North America: 13204\n"
     ]
    }
   ],
   "source": [
    "for region in countries[\"GBIF.region\"].unique():\n",
    "    country_list = countries.loc[countries[\"GBIF.region\"] == region].ISO2.tolist()\n",
    "    print(region+\":\", number_of_species_in_country_list(butterfly, country_list))"
   ]
  },
  {
   "cell_type": "code",
   "execution_count": null,
   "metadata": {},
   "outputs": [],
   "source": []
  }
 ],
 "metadata": {
  "kernelspec": {
   "display_name": "Python 3",
   "language": "python",
   "name": "python3"
  },
  "language_info": {
   "codemirror_mode": {
    "name": "ipython",
    "version": 3
   },
   "file_extension": ".py",
   "mimetype": "text/x-python",
   "name": "python",
   "nbconvert_exporter": "python",
   "pygments_lexer": "ipython3",
   "version": "3.6.4"
  }
 },
 "nbformat": 4,
 "nbformat_minor": 2
}
