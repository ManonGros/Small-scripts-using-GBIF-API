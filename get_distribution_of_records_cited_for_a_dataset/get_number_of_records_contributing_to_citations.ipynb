{
 "cells": [
  {
   "cell_type": "code",
   "execution_count": 1,
   "metadata": {},
   "outputs": [],
   "source": [
    "import json\n",
    "import requests\n",
    "import pandas as pd\n",
    "import matplotlib.pyplot as plt\n",
    "%matplotlib inline\n",
    "import seaborn as sns"
   ]
  },
  {
   "cell_type": "code",
   "execution_count": 2,
   "metadata": {},
   "outputs": [],
   "source": [
    "dataset_key = \"ad43e954-dd79-4986-ae34-9ccdbd8bf568\" # Geographically tagged INSDC sequences dataset"
   ]
  },
  {
   "cell_type": "code",
   "execution_count": 3,
   "metadata": {},
   "outputs": [],
   "source": [
    "def get_all_downloads_involved_citations(dataset_key,\n",
    "                                         paging_step = 200,\n",
    "                                         api_call=\"https://www.gbif.org/api/resource/search\"):\n",
    "    '''\n",
    "    Uses the API to get a list of all the download keys that were cited\n",
    "    '''\n",
    "    list_download_keys = []\n",
    "    endOfRecords = False\n",
    "    offset = 0\n",
    "    while not endOfRecords:\n",
    "        params = {\n",
    "            \"contentType\": \"literature\",\n",
    "            \"gbifDatasetKey\": dataset_key,\n",
    "            \"offset\": offset,\n",
    "            \"limit\": paging_step\n",
    "        }\n",
    "        response = requests.get(api_call, params)\n",
    "        if response.ok:\n",
    "            citation_list = response.json()\n",
    "            for citation in citation_list[\"results\"]:\n",
    "                list_download_keys += citation[\"gbifDownloadKey\"]\n",
    "            endOfRecords = citation_list[\"endOfRecords\"]\n",
    "            offset += paging_step\n",
    "        else:\n",
    "            print(\"issue\", params)\n",
    "            endOfRecords = True\n",
    "    return list_download_keys"
   ]
  },
  {
   "cell_type": "code",
   "execution_count": 4,
   "metadata": {},
   "outputs": [],
   "source": [
    "def get_dataset_download_numbers(dataset_key,\n",
    "                                 download_key,\n",
    "                                 paging_step = 200,\n",
    "                                 api_call=\"https://api.gbif.org/v1/occurrence/download/\"):\n",
    "    '''\n",
    "    Uses the API to get number of records from a given dataset in a download, total records in that download\n",
    "    and total number of dataset\n",
    "    '''\n",
    "    downloads = {\n",
    "        \"downloadKey\": download_key,\n",
    "        \"numberRecords\": 0,\n",
    "        \"totalRecords\": 0,\n",
    "        \"numberDatasets\": 0\n",
    "    }\n",
    "    endOfRecords = False\n",
    "    offset = 0\n",
    "    \n",
    "    while not endOfRecords:\n",
    "        params = {\n",
    "            \"offset\": offset,\n",
    "            \"limit\": paging_step\n",
    "        }\n",
    "        response = requests.get(api_call+download_key+\"/datasets\", params)\n",
    "        if response.ok:\n",
    "            downloaded_datasets = response.json()\n",
    "            endOfRecords = downloaded_datasets[\"endOfRecords\"]\n",
    "            downloads[\"numberDatasets\"] = downloaded_datasets[\"count\"]\n",
    "            \n",
    "            for dataset in downloaded_datasets[\"results\"]:\n",
    "                downloads[\"totalRecords\"] += dataset[\"numberRecords\"]\n",
    "                if dataset[\"datasetKey\"] == dataset_key:\n",
    "                    downloads[\"numberRecords\"] = dataset[\"numberRecords\"]\n",
    "                    \n",
    "            offset += paging_step\n",
    "        else:\n",
    "            print(\"issue\", params)\n",
    "            endOfRecords = True\n",
    "    return downloads"
   ]
  },
  {
   "cell_type": "code",
   "execution_count": 5,
   "metadata": {},
   "outputs": [],
   "source": [
    "cited_download = get_all_downloads_involved_citations(dataset_key)"
   ]
  },
  {
   "cell_type": "code",
   "execution_count": 8,
   "metadata": {},
   "outputs": [],
   "source": [
    "cited_download_stats = []\n",
    "for download in cited_download:\n",
    "    cited_download_stats.append(get_dataset_download_numbers(dataset_key,download, 500))"
   ]
  },
  {
   "cell_type": "code",
   "execution_count": 9,
   "metadata": {},
   "outputs": [],
   "source": [
    "pd_cited_download_stats = pd.DataFrame(cited_download_stats).set_index(\"downloadKey\")"
   ]
  },
  {
   "cell_type": "code",
   "execution_count": 47,
   "metadata": {},
   "outputs": [],
   "source": [
    "pd_cited_download_stats_no_zero = pd_cited_download_stats[pd_cited_download_stats[\"numberRecords\"]>0]"
   ]
  },
  {
   "cell_type": "code",
   "execution_count": 51,
   "metadata": {},
   "outputs": [],
   "source": [
    "pd_cited_download_stats_no_zero.to_csv(\"nb_records_contributing_to_GBIF_citations_from_INSDC_dataset.csv\", sep=\"\\t\")"
   ]
  },
  {
   "cell_type": "code",
   "execution_count": 48,
   "metadata": {},
   "outputs": [
    {
     "data": {
      "text/plain": [
       "array([[<matplotlib.axes._subplots.AxesSubplot object at 0x7f8113954710>]],\n",
       "      dtype=object)"
      ]
     },
     "execution_count": 48,
     "metadata": {},
     "output_type": "execute_result"
    },
    {
     "data": {
      "image/png": "[encoded data removed]",
      "text/plain": [
       "<Figure size 432x288 with 1 Axes>"
      ]
     },
     "metadata": {
      "needs_background": "light"
     },
     "output_type": "display_data"
    }
   ],
   "source": [
    "pd_cited_download_stats_no_zero.hist(column=[\"numberRecords\"],bins=100)"
   ]
  },
  {
   "cell_type": "code",
   "execution_count": 49,
   "metadata": {},
   "outputs": [
    {
     "data": {
      "text/plain": [
       "(0, 10000)"
      ]
     },
     "execution_count": 49,
     "metadata": {},
     "output_type": "execute_result"
    },
    {
     "data": {
      "image/png": "[encoded data removed]",
      "text/plain": [
       "<Figure size 432x288 with 1 Axes>"
      ]
     },
     "metadata": {
      "needs_background": "light"
     },
     "output_type": "display_data"
    }
   ],
   "source": [
    "pd_cited_download_stats_no_zero.hist(column=[\"numberRecords\"],bins=10000)\n",
    "plt.xlim(0,10000)"
   ]
  },
  {
   "cell_type": "code",
   "execution_count": 53,
   "metadata": {},
   "outputs": [
    {
     "data": {
      "text/plain": [
       "numberRecords         7.0\n",
       "totalRecords      20867.5\n",
       "numberDatasets      113.0\n",
       "dtype: float64"
      ]
     },
     "execution_count": 53,
     "metadata": {},
     "output_type": "execute_result"
    }
   ],
   "source": [
    "pd_cited_download_stats_no_zero.median()"
   ]
  },
  {
   "cell_type": "code",
   "execution_count": 54,
   "metadata": {},
   "outputs": [
    {
     "data": {
      "text/plain": [
       "numberRecords     3.236751e+04\n",
       "totalRecords      5.677073e+06\n",
       "numberDatasets    2.918200e+02\n",
       "dtype: float64"
      ]
     },
     "execution_count": 54,
     "metadata": {},
     "output_type": "execute_result"
    }
   ],
   "source": [
    "pd_cited_download_stats_no_zero.mean()"
   ]
  },
  {
   "cell_type": "code",
   "execution_count": null,
   "metadata": {},
   "outputs": [],
   "source": []
  }
 ],
 "metadata": {
  "kernelspec": {
   "display_name": "Python 3",
   "language": "python",
   "name": "python3"
  },
  "language_info": {
   "codemirror_mode": {
    "name": "ipython",
    "version": 3
   },
   "file_extension": ".py",
   "mimetype": "text/x-python",
   "name": "python",
   "nbconvert_exporter": "python",
   "pygments_lexer": "ipython3",
   "version": "3.7.4"
  }
 },
 "nbformat": 4,
 "nbformat_minor": 2
}
