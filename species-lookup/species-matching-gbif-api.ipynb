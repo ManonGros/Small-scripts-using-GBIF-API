{
 "cells": [
  {
   "cell_type": "code",
   "execution_count": 1,
   "metadata": {},
   "outputs": [],
   "source": [
    "import pandas as pd\n",
    "import requests\n",
    "import json"
   ]
  },
  {
   "cell_type": "markdown",
   "metadata": {},
   "source": [
    "# Species matching API\n",
    "\n",
    "This scripts aims to emulate the GBIF species matching tool on GBIF (https://www.gbif.org/tools/species-lookup).\n",
    "It takes and input file containing scientific names (under the column `scientificName`) and look up a match in the GBIF taxonomy.\n",
    "\n",
    "The aletrnative matches are also included in the output file (they are tagged in the `is_alternative`).\n",
    "\n",
    "The scripts uses the GBIF Species API (https://www.gbif.org/developer/species):\n",
    "```\n",
    "http://api.gbif.org/v1/species/match?\n",
    "```"
   ]
  },
  {
   "cell_type": "code",
   "execution_count": 2,
   "metadata": {},
   "outputs": [],
   "source": [
    "input_file = \"../../../Desktop/FS.csv\"\n",
    "ouptut_file = \"../../../Desktop/res_match_FS.txt\""
   ]
  },
  {
   "cell_type": "code",
   "execution_count": 3,
   "metadata": {},
   "outputs": [],
   "source": [
    "species_list = pd.read_csv(input_file) # make sure that file is UTF-8"
   ]
  },
  {
   "cell_type": "code",
   "execution_count": 4,
   "metadata": {},
   "outputs": [],
   "source": [
    "species_api = \"http://api.gbif.org/v1/species/match?verbose=true&name=\""
   ]
  },
  {
   "cell_type": "code",
   "execution_count": 5,
   "metadata": {},
   "outputs": [],
   "source": [
    "matched_species = []\n",
    "# For each name\n",
    "for species in species_list.index:\n",
    "    \n",
    "    # Replace space by %20 for API request in names\n",
    "    name = species_list.loc[species, \"scientificName\"].replace(\" \", \"%20\")\n",
    "    \n",
    "    # Find a match for the name with the API\n",
    "    match = requests.get(species_api+name)\n",
    "    \n",
    "    # If the response is ok\n",
    "    if match.ok:\n",
    "        \n",
    "        # Process the response\n",
    "        match_result = match.json()\n",
    "        match_result[\"inputName\"] = species_list.loc[species, \"scientificName\"]\n",
    "        \n",
    "        # If the response contains alternative matches, make one line per match\n",
    "        if \"alternatives\" in match_result:\n",
    "            match_result[\"has_alternatives\"] = True\n",
    "            for alt in match_result[\"alternatives\"]:\n",
    "                alt[\"inputName\"] = species_list.loc[species, \"scientificName\"]\n",
    "                alt[\"is_alternative\"] = True\n",
    "                matched_species.append(alt) # add alternative\n",
    "            match_result.pop('alternatives')\n",
    "            \n",
    "        # Strore the result\n",
    "        matched_species.append(match_result)"
   ]
  },
  {
   "cell_type": "code",
   "execution_count": 6,
   "metadata": {},
   "outputs": [],
   "source": [
    "result = pd.DataFrame(matched_species)\n",
    "\n",
    "# Store taxon keys as integers\n",
    "taxon_keys = ['acceptedUsageKey', 'usageKey', 'kingdomKey', 'phylumKey', 'classKey', 'orderKey', 'familyKey', 'genusKey', 'speciesKey']\n",
    "result[taxon_keys] = result[taxon_keys].fillna(0).astype(int)\n",
    "\n",
    "# Fill NAs with NULL\n",
    "result = result.fillna(\"NULL\")"
   ]
  },
  {
   "cell_type": "code",
   "execution_count": 7,
   "metadata": {},
   "outputs": [],
   "source": [
    "result.to_csv(ouptut_file, index = False, sep = \"\\t\")"
   ]
  },
  {
   "cell_type": "code",
   "execution_count": null,
   "metadata": {},
   "outputs": [],
   "source": []
  }
 ],
 "metadata": {
  "kernelspec": {
   "display_name": "Python 3",
   "language": "python",
   "name": "python3"
  },
  "language_info": {
   "codemirror_mode": {
    "name": "ipython",
    "version": 3
   },
   "file_extension": ".py",
   "mimetype": "text/x-python",
   "name": "python",
   "nbconvert_exporter": "python",
   "pygments_lexer": "ipython3",
   "version": "3.6.4"
  }
 },
 "nbformat": 4,
 "nbformat_minor": 2
}
