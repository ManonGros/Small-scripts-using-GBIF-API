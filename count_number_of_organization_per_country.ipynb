{
 "cells": [
  {
   "cell_type": "code",
   "execution_count": 11,
   "metadata": {},
   "outputs": [],
   "source": [
    "import pandas as pd\n",
    "import requests"
   ]
  },
  {
   "cell_type": "code",
   "execution_count": 12,
   "metadata": {},
   "outputs": [],
   "source": [
    "api = \"http://api.gbif.org/v1/\""
   ]
  },
  {
   "cell_type": "code",
   "execution_count": 13,
   "metadata": {},
   "outputs": [],
   "source": [
    "# Get all organisations\n",
    "information = [\"endorsingNodeKey\", \"endorsementApproved\", \"country\"]\n",
    "organizations = pd.DataFrame(columns=information)\n",
    "\n",
    "step = 300\n",
    "offset = 0\n",
    "end_of_records = False\n",
    "while not end_of_records:\n",
    "    param = {\n",
    "        \"offset\": offset,\n",
    "        \"limit\": step\n",
    "    }\n",
    "    response = requests.get(api+\"organization\", param)\n",
    "    response = response.json()\n",
    "    for org in response[\"results\"]:\n",
    "        uuid = org[\"key\"]\n",
    "        for info in information:\n",
    "            if info in org:\n",
    "                organizations.at[uuid, info] = org[info]\n",
    "    offset += step\n",
    "    end_of_records = response[\"endOfRecords\"]"
   ]
  },
  {
   "cell_type": "code",
   "execution_count": 17,
   "metadata": {},
   "outputs": [],
   "source": [
    "count_organizations = organizations[organizations[\"endorsementApproved\"] == True][[\"endorsementApproved\", \"country\"]].groupby(\"country\").count()"
   ]
  },
  {
   "cell_type": "code",
   "execution_count": 18,
   "metadata": {},
   "outputs": [],
   "source": [
    "count_organizations.to_csv(\"Number_of_endsorsed_organization_per_country.tsv\", sep=\"\\t\")"
   ]
  },
  {
   "cell_type": "code",
   "execution_count": null,
   "metadata": {},
   "outputs": [],
   "source": []
  }
 ],
 "metadata": {
  "kernelspec": {
   "display_name": "Python 3",
   "language": "python",
   "name": "python3"
  },
  "language_info": {
   "codemirror_mode": {
    "name": "ipython",
    "version": 3
   },
   "file_extension": ".py",
   "mimetype": "text/x-python",
   "name": "python",
   "nbconvert_exporter": "python",
   "pygments_lexer": "ipython3",
   "version": "3.6.4"
  }
 },
 "nbformat": 4,
 "nbformat_minor": 2
}
