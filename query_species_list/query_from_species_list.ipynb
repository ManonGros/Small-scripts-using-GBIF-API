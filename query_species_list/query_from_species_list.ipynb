{
 "cells": [
  {
   "cell_type": "code",
   "execution_count": 1,
   "metadata": {},
   "outputs": [],
   "source": [
    "import pandas as pd\n",
    "import requests\n",
    "import json\n",
    "import io\n",
    "from functions_query_from_species_list import *"
   ]
  },
  {
   "cell_type": "code",
   "execution_count": 2,
   "metadata": {},
   "outputs": [],
   "source": [
    "login = \"\"\n",
    "password = \"\"\n",
    "URL_species_file = \"https://data-blog.gbif.org/post/2019-07-11-downloading-long-species-lists-on-gbif_files/global_tree_search_trees_1_3.csv\""
   ]
  },
  {
   "cell_type": "code",
   "execution_count": 3,
   "metadata": {},
   "outputs": [],
   "source": [
    "# Get Taxon Keys\n",
    "species_list = pd.read_csv(URL_species_file, encoding='latin-1')\n",
    "taxon_keys = match_species(species_list, \"Taxon name\")"
   ]
  },
  {
   "cell_type": "code",
   "execution_count": 7,
   "metadata": {},
   "outputs": [],
   "source": [
    "# filter keys howyou see fit\n",
    "key_list = taxon_keys.loc[(taxon_keys[\"matchType\"]==\"EXACT\") & (taxon_keys[\"status\"]==\"ACCEPTED\")].usageKey.tolist()"
   ]
  },
  {
   "cell_type": "code",
   "execution_count": 9,
   "metadata": {},
   "outputs": [],
   "source": [
    "# Make download query\n",
    "download_query = {}\n",
    "download_query[\"creator\"] = \"\"\n",
    "download_query[\"notificationAddresses\"] = [\"\"]\n",
    "download_query[\"sendNotification\"] = True\n",
    "download_query[\"format\"] = \"SIMPLE_CSV\"\n",
    "download_query[\"predicate\"] = {\n",
    "    \"type\": \"in\",\n",
    "    \"key\": \"TAXON_KEY\",\n",
    "    \"values\": key_list\n",
    "}"
   ]
  },
  {
   "cell_type": "code",
   "execution_count": null,
   "metadata": {},
   "outputs": [],
   "source": [
    "create_download_given_query(login, password, download_query)"
   ]
  }
 ],
 "metadata": {
  "kernelspec": {
   "display_name": "Python 3",
   "language": "python",
   "name": "python3"
  },
  "language_info": {
   "codemirror_mode": {
    "name": "ipython",
    "version": 3
   },
   "file_extension": ".py",
   "mimetype": "text/x-python",
   "name": "python",
   "nbconvert_exporter": "python",
   "pygments_lexer": "ipython3",
   "version": "3.6.4"
  }
 },
 "nbformat": 4,
 "nbformat_minor": 2
}
