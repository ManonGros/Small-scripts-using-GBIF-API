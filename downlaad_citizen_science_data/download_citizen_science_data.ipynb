{
 "cells": [
  {
   "cell_type": "code",
   "execution_count": 59,
   "metadata": {},
   "outputs": [],
   "source": [
    "import json\n",
    "import requests"
   ]
  },
  {
   "cell_type": "code",
   "execution_count": 60,
   "metadata": {},
   "outputs": [],
   "source": [
    "def get_citsci_dataset_list(api=\"http://api.gbif.org/v1/\",\n",
    "                            namespace=\"citizenScience.mgrosjean.gbif.org\"):\n",
    "    '''\n",
    "    Gets the dataset UUIDs for all the datasets currently tagged\n",
    "    as scitizen science dataset.\n",
    "    '''\n",
    "    citizen_science_datasets = []\n",
    "    offset = 0\n",
    "    step = 900\n",
    "    end_of_records = False\n",
    "    while not end_of_records:\n",
    "        param = {\n",
    "            \"offset\": offset,\n",
    "            \"limit\": step,\n",
    "            \"machineTagNamespace\": namespace\n",
    "        }\n",
    "        # Query API\n",
    "        response = requests.get(api + \"dataset\", param)\n",
    "        if response.ok:\n",
    "            citsci_dataset = response.json()\n",
    "            for dataset in citsci_dataset[\"results\"]:\n",
    "                citizen_science_datasets.append(dataset[\"key\"])\n",
    "            offset += step\n",
    "            end_of_records = citsci_dataset[\"endOfRecords\"]\n",
    "        else:\n",
    "            print(\"ERROR\")\n",
    "            end_of_records = True\n",
    "    return citizen_science_datasets"
   ]
  },
  {
   "cell_type": "code",
   "execution_count": 61,
   "metadata": {},
   "outputs": [],
   "source": [
    "def create_download_given_query(login,\n",
    "                                password,\n",
    "                                download_query,\n",
    "                                api=\"http://api.gbif.org/v1/\"):\n",
    "    '''\n",
    "    Query the download API\n",
    "    '''\n",
    "    headers = {'Content-Type': 'application/json'}\n",
    "    download_request = requests.post(api + \"occurrence/download/request\",\n",
    "                                     data=json.dumps(download_query),\n",
    "                                     auth=(login, password),\n",
    "                                     headers=headers)\n",
    "    if download_request.ok:\n",
    "        print(\"ok\")\n",
    "    else:\n",
    "        print(download_request)\n",
    "    return download_request"
   ]
  },
  {
   "cell_type": "code",
   "execution_count": 63,
   "metadata": {},
   "outputs": [],
   "source": [
    "# Build Download query\n",
    "\n",
    "download_query = {}\n",
    "download_query[\"creator\"] = \"\"\n",
    "download_query[\"notificationAddresses\"] = [\"\"]\n",
    "download_query[\"sendNotification\"] = True\n",
    "download_query[\"format\"] = \"SIMPLE_CSV\"\n",
    "\n",
    "# Specify predicates\n",
    "download_query[\"predicate\"] = {\n",
    "    \"type\": \"and\",\n",
    "    \"predicates\": []\n",
    "}\n",
    "predicate_dataset = {\n",
    "    \"type\": \"in\",\n",
    "    \"key\": \"DATASET_KEY\",\n",
    "    \"values\": get_citsci_dataset_list()\n",
    "}\n",
    "# I want only the insects from scitizen science dataset:\n",
    "predicate_taxon = {\n",
    "    \"type\": \"equals\",\n",
    "    \"key\": \"TAXON_KEY\",\n",
    "    \"value\": 216 # insect\n",
    "}\n",
    "download_query[\"predicate\"][\"predicates\"].append(predicate_dataset)\n",
    "download_query[\"predicate\"][\"predicates\"].append(predicate_taxon)"
   ]
  },
  {
   "cell_type": "code",
   "execution_count": 64,
   "metadata": {},
   "outputs": [],
   "source": [
    "login = \"\"\n",
    "password = \"\""
   ]
  },
  {
   "cell_type": "code",
   "execution_count": null,
   "metadata": {},
   "outputs": [],
   "source": [
    "create_download_given_query(login, password, download_query)"
   ]
  }
 ],
 "metadata": {
  "kernelspec": {
   "display_name": "Python 3",
   "language": "python",
   "name": "python3"
  },
  "language_info": {
   "codemirror_mode": {
    "name": "ipython",
    "version": 3
   },
   "file_extension": ".py",
   "mimetype": "text/x-python",
   "name": "python",
   "nbconvert_exporter": "python",
   "pygments_lexer": "ipython3",
   "version": "3.6.4"
  }
 },
 "nbformat": 4,
 "nbformat_minor": 2
}
