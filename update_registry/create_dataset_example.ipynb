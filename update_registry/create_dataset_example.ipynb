{
 "cells": [
  {
   "cell_type": "code",
   "execution_count": 8,
   "metadata": {},
   "outputs": [],
   "source": [
    "import json\n",
    "import requests"
   ]
  },
  {
   "cell_type": "code",
   "execution_count": 9,
   "metadata": {},
   "outputs": [],
   "source": [
    "# API settings\n",
    "api = \"http://api.gbif-uat.org/v1/dataset\"\n",
    "headers = {'Content-Type': 'application/json'}\n",
    "\n",
    "username = \"\"\n",
    "password = \"\"\n",
    "\n",
    "# Dataset Example\n",
    "title = \"Specify - TEST - MARIE 1\"\n",
    "organizaion = \"0a16da09-7719-40de-8d4f-56a15ed52fb6\" # Test organization\n",
    "installation = \"92d76df5-3de1-4c89-be03-7a17abad962a\" # Test HTTP installation\n",
    "endpoint_example = \"https://sandbox.zenodo.org/record/373582/files/exporterDwc.zip\"\n",
    "data_type = \"OCCURRENCE\""
   ]
  },
  {
   "cell_type": "code",
   "execution_count": 10,
   "metadata": {},
   "outputs": [],
   "source": [
    "dataset_example = {\n",
    "    \"installationKey\": installation,\n",
    "    \"publishingOrganizationKey\": organizaion,\n",
    "    \"type\": data_type,\n",
    "    \"title\": title\n",
    "}"
   ]
  },
  {
   "cell_type": "code",
   "execution_count": 11,
   "metadata": {},
   "outputs": [],
   "source": [
    "create_dataset = requests.post(api,\n",
    "                               data=json.dumps(dataset_example),\n",
    "                               auth=(username, password),\n",
    "                               headers=headers)"
   ]
  },
  {
   "cell_type": "code",
   "execution_count": 12,
   "metadata": {},
   "outputs": [
    {
     "name": "stdout",
     "output_type": "stream",
     "text": [
      "88cb6239-85aa-47c4-99e5-fab8cb2f6fa2\n",
      "Endpoint added\n"
     ]
    }
   ],
   "source": [
    "if create_dataset.ok:\n",
    "    # Print UUID\n",
    "    dataset_response = create_dataset.json()\n",
    "    print(dataset_response)\n",
    "    \n",
    "    # Add endpoint\n",
    "    my_endpoint = {\n",
    "                \"url\": endpoint_example,\n",
    "                \"type\": \"DWC_ARCHIVE\"\n",
    "            }\n",
    "    update_dataset = requests.post(api + \"/\" + dataset_response + \"/endpoint\",\n",
    "                                   data=json.dumps(my_endpoint),\n",
    "                                   auth=(username, password),\n",
    "                                   headers=headers)\n",
    "    if update_dataset.ok:\n",
    "        print(\"Endpoint added\")"
   ]
  },
  {
   "cell_type": "code",
   "execution_count": 13,
   "metadata": {},
   "outputs": [
    {
     "data": {
      "text/plain": [
       "'88cb6239-85aa-47c4-99e5-fab8cb2f6fa2'"
      ]
     },
     "execution_count": 13,
     "metadata": {},
     "output_type": "execute_result"
    }
   ],
   "source": [
    "create_dataset.json()"
   ]
  },
  {
   "cell_type": "code",
   "execution_count": null,
   "metadata": {},
   "outputs": [],
   "source": []
  }
 ],
 "metadata": {
  "kernelspec": {
   "display_name": "Python 3",
   "language": "python",
   "name": "python3"
  },
  "language_info": {
   "codemirror_mode": {
    "name": "ipython",
    "version": 3
   },
   "file_extension": ".py",
   "mimetype": "text/x-python",
   "name": "python",
   "nbconvert_exporter": "python",
   "pygments_lexer": "ipython3",
   "version": "3.7.4"
  }
 },
 "nbformat": 4,
 "nbformat_minor": 2
}
