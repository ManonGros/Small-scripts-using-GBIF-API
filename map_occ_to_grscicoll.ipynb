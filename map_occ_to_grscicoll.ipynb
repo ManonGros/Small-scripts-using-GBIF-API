{
 "cells": [
  {
   "cell_type": "code",
   "execution_count": 1,
   "metadata": {},
   "outputs": [],
   "source": [
    "import requests\n",
    "import json"
   ]
  },
  {
   "cell_type": "code",
   "execution_count": 2,
   "metadata": {},
   "outputs": [],
   "source": [
    "grscicoll_api = 'http://api.gbif.org/v1/grscicoll/'\n",
    "headers = {'Content-Type': 'application/json'}\n",
    "login = \"\"\n",
    "password = \"\""
   ]
  },
  {
   "cell_type": "code",
   "execution_count": 16,
   "metadata": {},
   "outputs": [],
   "source": [
    "entity_key = \"7f10ed32-b003-4297-ab21-f85257e237d9\"\n",
    "dataset_key = \"e08de352-9383-48b0-88ae-be15cce386c5\"\n",
    "entity_type = \"collection\" # The type of entity to which the mapping will be applied, here \"collection\"\n"
    "# entity_type = \"institution\" # The type of entity to which the mapping will be applied, here \"institution\"\n"
   ]
  },
  {
   "cell_type": "code",
   "execution_count": 17,
   "metadata": {},
   "outputs": [],
   "source": [
    "mapping = {\n",
    "    \"datasetKey\" : dataset_key,\n",
    "    \"code\": \"ALG\" # Code of the collection as provided in the dataset\n",
    "    # \"parentCode\": \"ALG\" # Code of the parent institution as provided in the dataset\n",
    "}"
   ]
  },
  {
   "cell_type": "code",
   "execution_count": 18,
   "metadata": {},
   "outputs": [],
   "source": [
    "add_mapping = requests.post(grscicoll_api + entity_type +'/' + entity_key + \"/occurrenceMapping\",\n",
    "                      data=json.dumps(mapping),\n",
    "                      auth=(login, password),\n",
    "                      headers=headers)"
   ]
  },
  {
   "cell_type": "code",
   "execution_count": 19,
   "metadata": {},
   "outputs": [
    {
     "data": {
      "text/plain": [
       "98"
      ]
     },
     "execution_count": 19,
     "metadata": {},
     "output_type": "execute_result"
    }
   ],
   "source": [
    "add_mapping.json()"
   ]
  },
  {
   "cell_type": "code",
   "execution_count": 20,
   "metadata": {},
   "outputs": [
    {
     "data": {
      "text/plain": [
       "<Response [204]>"
      ]
     },
     "execution_count": 20,
     "metadata": {},
     "output_type": "execute_result"
    }
   ],
   "source": [
    "## If you want to delete a mapping\n",
    "# requests.delete(\"https://api.gbif.org/v1/grscicoll/collection/7f10ed32-b003-4297-ab21-f85257e237d9/occurrenceMapping/95\",\n",
    "#                 auth=(login, password),\n",
    "#                 headers=headers)"
   ]
  },
  {
   "cell_type": "code",
   "execution_count": null,
   "metadata": {},
   "outputs": [],
   "source": []
  }
 ],
 "metadata": {
  "kernelspec": {
   "display_name": "Python 3 (ipykernel)",
   "language": "python",
   "name": "python3"
  },
  "language_info": {
   "codemirror_mode": {
    "name": "ipython",
    "version": 3
   },
   "file_extension": ".py",
   "mimetype": "text/x-python",
   "name": "python",
   "nbconvert_exporter": "python",
   "pygments_lexer": "ipython3",
   "version": "3.10.9"
  }
 },
 "nbformat": 4,
 "nbformat_minor": 2
}
